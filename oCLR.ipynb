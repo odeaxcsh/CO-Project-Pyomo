{
 "cells": [
  {
   "cell_type": "code",
   "execution_count": 1,
   "metadata": {},
   "outputs": [],
   "source": [
    "from pyomo.environ import *\n",
    "from matplotlib import pyplot as plt\n",
    "import numpy as np\n",
    "\n",
    "\n",
    "from utils.model import init_model, getM1_rule\n",
    "from utils.data import load_data, slope_bounds, intercept_bounds"
   ]
  },
  {
   "cell_type": "code",
   "execution_count": 2,
   "metadata": {},
   "outputs": [
    {
     "name": "stderr",
     "output_type": "stream",
     "text": [
      "C:\\Users\\padidar\\Desktop\\CO-Project-Pyomo\\utils\\data.py:17: RuntimeWarning: invalid value encountered in divide\n",
      "  slope_min = np.nanmin((y[:, None] - y[None, :]) / (x[:, None] - x[None, :]))\n",
      "C:\\Users\\padidar\\Desktop\\CO-Project-Pyomo\\utils\\data.py:18: RuntimeWarning: invalid value encountered in divide\n",
      "  slope_max = np.nanmax((y[:, None] - y[None, :]) / (x[:, None] - x[None, :]))\n"
     ]
    }
   ],
   "source": [
    "data = load_data('Data/DebrisFlow.txt')\n",
    "\n",
    "CL, CU = slope_bounds(data)\n",
    "DL, DU = intercept_bounds(data)"
   ]
  },
  {
   "cell_type": "code",
   "execution_count": 3,
   "metadata": {},
   "outputs": [],
   "source": [
    "b = 3\n",
    "model = init_model(data)\n",
    "model.b = Param(initialize=b)\n",
    "model.B = RangeSet(1, b)\n",
    "model.M = Param(model.I, initialize=getM1_rule(data))\n",
    "\n",
    "model.c = Var(model.B, within=Reals, bounds=(CL, CU))\n",
    "model.d = Var(model.B, within=Reals, bounds=(DL, DU))\n",
    "\n",
    "model.e = Var(model.I, within=NonNegativeReals)\n",
    "model.x = Var(model.I, model.B, within=Binary)"
   ]
  },
  {
   "cell_type": "code",
   "execution_count": 4,
   "metadata": {},
   "outputs": [],
   "source": [
    "@model.Constraint(model.I, model.B)\n",
    "def error_constraint_leq(model, i, b):\n",
    "    return model.Y[i] - model.c[b] * model.X[i] - model.d[b] <= model.e[i] + model.M[i] * (1 - model.x[i, b])\n",
    "\n",
    "\n",
    "@model.Constraint(model.I, model.B)\n",
    "def error_constraint_geq(model, i, b):\n",
    "    return model.Y[i] - model.c[b] * model.X[i] - model.d[b] >= -model.e[i] - model.M[i] * (1 - model.x[i, b])\n",
    "\n",
    "\n",
    "@model.Constraint(model.I)\n",
    "def assignment_constraint(model, i):\n",
    "    return sum(model.x[i, b] for b in model.B) == 1\n",
    "\n",
    "\n",
    "@model.Constraint(model.I, model.B)\n",
    "def ordering_constraint(model, i, b):\n",
    "    if i == model.n or b == model.b:\n",
    "        return Constraint.Skip\n",
    "    return model.x[i + 1, b + 1] <= model.x[i, b] + model.x[i, b + 1]\n",
    "\n",
    "\n",
    "@model.Constraint(model.I)\n",
    "def ordering_one_constraint(model, i):\n",
    "    if i == model.n:\n",
    "        return Constraint.Skip\n",
    "    return model.x[i + 1, 1] <= model.x[i, 1]\n",
    "\n",
    "\n",
    "@model.Constraint(model.I)\n",
    "def ordering_last_constraint(model, i):\n",
    "    if i == model.n:\n",
    "        return Constraint.Skip\n",
    "    return model.x[i, model.b] <= model.x[i + 1, model.b]\n",
    "\n",
    "model.obj = Objective(expr=sum(model.e[i] for i in model.I))"
   ]
  },
  {
   "cell_type": "code",
   "execution_count": 5,
   "metadata": {},
   "outputs": [
    {
     "name": "stdout",
     "output_type": "stream",
     "text": [
      "Objective: 11.13\n"
     ]
    }
   ],
   "source": [
    "result = SolverFactory('glpk', tee=True, keepfiles=False).solve(model)\n",
    "\n",
    "if result.solver.termination_condition != TerminationCondition.optimal:\n",
    "    raise Exception('Solver did not find an optimal solution')\n",
    "\n",
    "print(f'Objective: {model.obj():.2f}')"
   ]
  },
  {
   "cell_type": "code",
   "execution_count": 6,
   "metadata": {},
   "outputs": [],
   "source": [
    "data_clusters = np.array([sum(model.x[i, b].value * (b - 1) for b in model.B) for i in model.I])\n",
    "clusters_min = [np.min(data[data_clusters == i - 1, 0]) for i in model.B]\n",
    "clusters_max = [np.max(data[data_clusters == i - 1, 0]) for i in model.B]"
   ]
  },
  {
   "cell_type": "code",
   "execution_count": 7,
   "metadata": {},
   "outputs": [
    {
     "data": {
      "image/png": "[encoded data removed]",
      "text/plain": [
       "<Figure size 640x480 with 1 Axes>"
      ]
     },
     "metadata": {},
     "output_type": "display_data"
    }
   ],
   "source": [
    "plt.scatter(data[:, 0], data[:, 1], c=data_clusters)\n",
    "for b in model.B:\n",
    "    plt.plot([clusters_min[b - 1], clusters_max[b - 1]], [model.c[b].value * clusters_min[b - 1] + model.d[b].value, model.c[b].value * clusters_max[b - 1] + model.d[b].value], color='red')\n",
    "plt.show()"
   ]
  },
  {
   "cell_type": "code",
   "execution_count": null,
   "metadata": {},
   "outputs": [],
   "source": []
  }
 ],
 "metadata": {
  "kernelspec": {
   "display_name": "Python 3 (ipykernel)",
   "language": "python",
   "name": "python3"
  },
  "language_info": {
   "codemirror_mode": {
    "name": "ipython",
    "version": 3
   },
   "file_extension": ".py",
   "mimetype": "text/x-python",
   "name": "python",
   "nbconvert_exporter": "python",
   "pygments_lexer": "ipython3",
   "version": "3.11.0"
  }
 },
 "nbformat": 4,
 "nbformat_minor": 2
}
