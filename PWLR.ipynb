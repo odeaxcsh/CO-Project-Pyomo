{
 "cells": [
  {
   "cell_type": "code",
   "execution_count": 1,
   "metadata": {},
   "outputs": [],
   "source": [
    "from pyomo.environ import *\n",
    "from matplotlib import pyplot as plt\n",
    "import numpy as np\n",
    "\n",
    "\n",
    "from utils.model import init_model, getM1_rule, getM2_rule\n",
    "from utils.data import load_data, slope_bounds, intercept_bounds"
   ]
  },
  {
   "cell_type": "code",
   "execution_count": 2,
   "metadata": {},
   "outputs": [
    {
     "name": "stderr",
     "output_type": "stream",
     "text": [
      "C:\\Users\\padidar\\Desktop\\CO-Project-Pyomo\\utils\\data.py:17: RuntimeWarning: invalid value encountered in divide\n",
      "  slope_min = np.nanmin((y[:, None] - y[None, :]) / (x[:, None] - x[None, :]))\n",
      "C:\\Users\\padidar\\Desktop\\CO-Project-Pyomo\\utils\\data.py:18: RuntimeWarning: invalid value encountered in divide\n",
      "  slope_max = np.nanmax((y[:, None] - y[None, :]) / (x[:, None] - x[None, :]))\n"
     ]
    }
   ],
   "source": [
    "data = load_data('Data/DebrisFlow.txt')\n",
    "\n",
    "CL, CU = slope_bounds(data)\n",
    "DL, DU = intercept_bounds(data)"
   ]
  },
  {
   "cell_type": "code",
   "execution_count": 3,
   "metadata": {},
   "outputs": [],
   "source": [
    "b = 4\n",
    "model = init_model(data)\n",
    "model.b = Param(initialize=b)\n",
    "model.B_ = RangeSet(1, b-1)\n",
    "model.M1 = Param(model.I, initialize=getM1_rule(data))\n",
    "model.M2 = Param(model.I, initialize=getM2_rule(data))\n",
    "\n",
    "model.c = Var(model.B_, within=Reals, bounds=(CL, CU))\n",
    "model.d = Var(model.B_, within=Reals, bounds=(DL, DU))\n",
    "\n",
    "model.e = Var(model.I, within=NonNegativeReals)\n",
    "model.x = Var(model.I, model.B_, within=Binary)\n",
    "\n",
    "model.x_plus = Var(model.I, model.B_, within=Reals, bounds=(0, 1))\n",
    "model.x_minus = Var(model.I, model.B_, within=Reals, bounds=(0, 1))\n",
    "model.gamma = Var(model.B_, within=Binary)"
   ]
  },
  {
   "cell_type": "code",
   "execution_count": 4,
   "metadata": {},
   "outputs": [],
   "source": [
    "@model.Constraint(model.I, model.B_)\n",
    "def error_constraint_leq(model, i, b):\n",
    "    return model.Y[i] - model.c[b] * model.X[i] - model.d[b] <= model.e[i] + model.M1[i] * (1 - model.x[i, b])\n",
    "\n",
    "\n",
    "@model.Constraint(model.I, model.B_)\n",
    "def error_constraint_geq(model, i, b):\n",
    "    return model.Y[i] - model.c[b] * model.X[i] - model.d[b] >= -model.e[i] - model.M1[i] * (1 - model.x[i, b])\n",
    "\n",
    "\n",
    "@model.Constraint(model.I)\n",
    "def assignment_constraint(model, i):\n",
    "    return sum(model.x[i, b] for b in model.B_) == 1\n",
    "\n",
    "#\n",
    "@model.Constraint(model.I, model.B_)\n",
    "def ordering_constraint(model, i, b):\n",
    "    if i == model.n or b == model.b-1:\n",
    "        return Constraint.Skip\n",
    "    return model.x[i + 1, b + 1] <= model.x[i, b] + model.x[i, b + 1]\n",
    "\n",
    "\n",
    "@model.Constraint(model.I)\n",
    "def ordering_one_constraint(model, i):\n",
    "    if i == model.n:\n",
    "        return Constraint.Skip\n",
    "    return model.x[i + 1, 1] <= model.x[i, 1]\n",
    "\n",
    "\n",
    "@model.Constraint(model.I)\n",
    "def ordering_last_constraint(model, i):\n",
    "    if i == model.n:\n",
    "        return Constraint.Skip\n",
    "    return model.x[i, model.b-1] <= model.x[i + 1, model.b-1]\n",
    "\n",
    "#\n",
    "@model.Constraint(model.I, model.B_)\n",
    "def pos_slope_constraint(model, i, b):\n",
    "    if i == model.n or b == model.b-1:\n",
    "        return Constraint.Skip\n",
    "    return model.x[i, b] + model.x[i + 1, b + 1] + model.gamma[b] - 2 <= model.x_plus[i, b]\n",
    "\n",
    "\n",
    "@model.Constraint(model.I, model.B_)\n",
    "def neg_slope_constraint(model, i, b):\n",
    "    if i == model.n or b == model.b-1:\n",
    "        return Constraint.Skip\n",
    "    return model.x[i, b] + model.x[i + 1, b + 1] - model.gamma[b] - 1 <= model.x_minus[i, b]\n",
    "\n",
    "#\n",
    "@model.Constraint(model.I, model.B_)\n",
    "def pos_slope_constraint_geq(model, i, b):\n",
    "    if i == model.n or b == model.b-1:\n",
    "        return Constraint.Skip\n",
    "    return model.d[b+1] - model.d[b] >= model.X[i] * (model.c[b] - model.c[b+1]) - model.M2[i] * (1 - model.x_plus[i, b])\n",
    "\n",
    "\n",
    "@model.Constraint(model.I, model.B_)\n",
    "def pos_slope_constraint_leq(model, i, b):\n",
    "    if i == model.n or b == model.b-1:\n",
    "        return Constraint.Skip\n",
    "    return model.d[b+1] - model.d[b] <= model.X[i+1] * (model.c[b] - model.c[b+1]) + model.M2[i+1] * (1 - model.x_plus[i, b])\n",
    "\n",
    "\n",
    "@model.Constraint(model.I, model.B_)\n",
    "def neg_slope_constraint_leq(model, i, b):\n",
    "    if i == model.n or b == model.b-1:\n",
    "        return Constraint.Skip\n",
    "    return model.d[b+1] - model.d[b] <= model.X[i] * (model.c[b] - model.c[b+1]) + model.M2[i] * (1 - model.x_minus[i, b])\n",
    "\n",
    "\n",
    "@model.Constraint(model.I, model.B_)\n",
    "def neg_slope_constraint_geq(model, i, b):\n",
    "    if i == model.n or b == model.b-1:\n",
    "        return Constraint.Skip\n",
    "    return model.d[b+1] - model.d[b] >= model.X[i+1] * (model.c[b] - model.c[b+1]) - model.M2[i+1] * (1 - model.x_minus[i, b])\n",
    "\n",
    "\n",
    "model.obj = Objective(expr=sum(model.e[i] for i in model.I))"
   ]
  },
  {
   "cell_type": "code",
   "execution_count": 5,
   "metadata": {},
   "outputs": [
    {
     "name": "stdout",
     "output_type": "stream",
     "text": [
      "Requiered Time 0: 1.6884868144989014\n",
      "Requiered Time 1: 1.653303623199463\n",
      "Requiered Time 2: 1.677656650543213\n",
      "Requiered Time 3: 1.6830785274505615\n",
      "Requiered Time 4: 1.5830285549163818\n",
      "Requiered Time 5: 1.6158761978149414\n",
      "Requiered Time 6: 1.579233169555664\n",
      "Requiered Time 7: 1.5889465808868408\n",
      "Requiered Time 8: 1.5801990032196045\n",
      "Requiered Time 9: 1.5803608894348145\n",
      "Objective: 27.15\n",
      "Average Requiered Time: 1.6230170011520386\n"
     ]
    }
   ],
   "source": [
    "import time\n",
    "t = []\n",
    "\n",
    "for i in range(10):    \n",
    "    t.append(time.time())\n",
    "    result = SolverFactory('glpk', tee=True, keepfiles=False).solve(model)\n",
    "\n",
    "    if result.solver.termination_condition != TerminationCondition.optimal:\n",
    "        raise Exception('Solver did not find an optimal solution')\n",
    "    t[i] = time.time() - t[i]\n",
    "    print(f'Requiered Time {i}: {t[i]}')\n",
    "\n",
    "print(f'Objective: {model.obj():.2f}')\n",
    "print(f'Average Requiered Time: {sum(t)/10}')"
   ]
  },
  {
   "cell_type": "code",
   "execution_count": 6,
   "metadata": {},
   "outputs": [
    {
     "data": {
      "image/png": "[encoded data removed]",
      "text/plain": [
       "<Figure size 640x480 with 1 Axes>"
      ]
     },
     "metadata": {},
     "output_type": "display_data"
    }
   ],
   "source": [
    "data_clusters = np.array([sum(model.x[i, b].value * (b - 1) for b in model.B_) for i in model.I])\n",
    "\n",
    "breakpoints = [data[0, 0]]\n",
    "for b in model.B_:\n",
    "    if b != model.b - 1:\n",
    "        r = (model.d[b + 1].value - model.d[b].value) / (model.c[b].value - model.c[b + 1].value)\n",
    "        breakpoints.append(r)\n",
    "breakpoints.append(np.max(data[data_clusters == model.b - 2, 0]))\n",
    "\n",
    "plt.scatter(data[:, 0], data[:, 1], c=data_clusters)\n",
    "for b in model.B_:\n",
    "    plt.plot([breakpoints[b - 1], breakpoints[b]], [model.c[b].value * breakpoints[b - 1] + model.d[b].value, model.c[b].value * breakpoints[b] + model.d[b].value], color='red')\n",
    "plt.show()"
   ]
  },
  {
   "cell_type": "code",
   "execution_count": null,
   "metadata": {},
   "outputs": [],
   "source": []
  }
 ],
 "metadata": {
  "kernelspec": {
   "display_name": "Python 3 (ipykernel)",
   "language": "python",
   "name": "python3"
  },
  "language_info": {
   "codemirror_mode": {
    "name": "ipython",
    "version": 3
   },
   "file_extension": ".py",
   "mimetype": "text/x-python",
   "name": "python",
   "nbconvert_exporter": "python",
   "pygments_lexer": "ipython3",
   "version": "3.11.0"
  }
 },
 "nbformat": 4,
 "nbformat_minor": 2
}
